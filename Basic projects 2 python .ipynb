{
 "cells": [
  {
   "cell_type": "code",
   "execution_count": null,
   "id": "e68d3d26-d69c-4a50-8830-4b9313209eb0",
   "metadata": {},
   "outputs": [],
   "source": [
    "tasks = []\n",
    "\n",
    "def show_tasks():\n",
    "    if len(tasks)>0:\n",
    "        print(\"\\n Your list: \")\n",
    "        index = 1\n",
    "        for task in tasks:\n",
    "            print(str(index)+\".\"+task)\n",
    "            index +=1\n",
    "    else:\n",
    "        print(\"\\nList us empty\")\n",
    "def  add_task(task):\n",
    "    tasks.append(task)\n",
    "    print(\"Added '\"+ task + \" '\")\n",
    "def remove_task(task):\n",
    "    if 0<index<=len(tasks):\n",
    "        removed_task = tasks.pop(index-1)\n",
    "        print(\"Removed: \" + removed_task + \"' \")\n",
    "    else:\n",
    "        print(\"Invalid number\")\n",
    "\n",
    "while True:\n",
    "    print(\"\\n1. View list\\n2. Add item \\n3. Remove list \\n4. EXIT\")\n",
    "    choice = input(\"Choose (1-4): \")\n",
    "    \n",
    "    if choice == \"1\":\n",
    "        show_tasks()\n",
    "    elif choice ==\"2\":\n",
    "        task = input(\"Enter Item: \")\n",
    "        add_task(task)\n",
    "    elif choice ==\"3\":\n",
    "        show_tasks()\n",
    "        try:\n",
    "            index = int(input(\"Enter number to remove: \"))\n",
    "            remove_task(index)\n",
    "        except ValueError:\n",
    "            print(\"Enter  a valid number \")\n",
    "            \n",
    "    elif choice ==\"4\":\n",
    "        print(\"Goodbye\")\n",
    "        break\n",
    "    else:\n",
    "        print(\"Invaled number\")\n",
    "            \n",
    "           "
   ]
  }
 ],
 "metadata": {
  "kernelspec": {
   "display_name": "Python 3 (ipykernel)",
   "language": "python",
   "name": "python3"
  },
  "language_info": {
   "codemirror_mode": {
    "name": "ipython",
    "version": 3
   },
   "file_extension": ".py",
   "mimetype": "text/x-python",
   "name": "python",
   "nbconvert_exporter": "python",
   "pygments_lexer": "ipython3",
   "version": "3.12.4"
  }
 },
 "nbformat": 4,
 "nbformat_minor": 5
}
