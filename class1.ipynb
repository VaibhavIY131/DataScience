{
 "cells": [
  {
   "cell_type": "code",
   "execution_count": 3,
   "id": "d8bbd627-ac41-4221-9a96-70704f61738f",
   "metadata": {},
   "outputs": [
    {
     "ename": "SyntaxError",
     "evalue": "invalid syntax (1599692924.py, line 25)",
     "output_type": "error",
     "traceback": [
      "\u001b[0;36m  Cell \u001b[0;32mIn[3], line 25\u001b[0;36m\u001b[0m\n\u001b[0;31m    Varibles name are case-sensitive\u001b[0m\n\u001b[0m             ^\u001b[0m\n\u001b[0;31mSyntaxError\u001b[0m\u001b[0;31m:\u001b[0m invalid syntax\n"
     ]
    }
   ],
   "source": [
    "# 1.Very easy to learn:\n",
    "# 2.very simple syntax:\n",
    "# 3.Large number of libraries:\n",
    "# 4.Large comminity support:\n",
    "# 5.Dynamic:don't have to declare variable types.\n",
    "\n",
    "# print(1000)\n",
    "\n",
    "# print(94369)\n",
    "\n",
    "# print(\"vaibhav\")\n",
    "\n",
    "# print('Hey how are U?')\n",
    "\n",
    "# print(\"python\",\"is\",\"fun\",sep = \",\")\n",
    "\n",
    "# print(\"Mango\\nOrange\\nApple\")\n",
    "\n",
    "# print(\"Mango\\torange\\tMelon\")\n",
    "\n",
    "\n",
    "# Varibles:\n",
    "# A variable name must start with a letter(a-z,A_Z) or an underscore.\n",
    "# The rest of the variables name can contains letters , digits(0-9) or und\n",
    "Varibles name are case-sensitive\n",
    "# age =10\n",
    "# AGE =10\n",
    "# Age=10\n",
    "\n",
    "Name = \"david\"\n",
    "_name = \"shyam\"\n",
    "print(Name)\n",
    "print(_name)"
   ]
  },
  {
   "cell_type": "code",
   "execution_count": 5,
   "id": "15a19e93-eb45-486f-9d39-f11a3c5680f8",
   "metadata": {},
   "outputs": [
    {
     "name": "stdout",
     "output_type": "stream",
     "text": [
      "shyam\n"
     ]
    }
   ],
   "source": [
    "_name = \"shyam\"\n",
    "print(_name)"
   ]
  },
  {
   "cell_type": "code",
   "execution_count": null,
   "id": "0aa21c2f-594a-4874-8aeb-0a09463d0140",
   "metadata": {},
   "outputs": [],
   "source": []
  },
  {
   "cell_type": "code",
   "execution_count": null,
   "id": "bb0673d0-1a3a-485a-9123-e380d2399919",
   "metadata": {},
   "outputs": [],
   "source": []
  },
  {
   "cell_type": "code",
   "execution_count": null,
   "id": "00c95996-b217-4aa2-a1d7-943f0774839e",
   "metadata": {},
   "outputs": [],
   "source": []
  }
 ],
 "metadata": {
  "kernelspec": {
   "display_name": "Python 3 (ipykernel)",
   "language": "python",
   "name": "python3"
  },
  "language_info": {
   "codemirror_mode": {
    "name": "ipython",
    "version": 3
   },
   "file_extension": ".py",
   "mimetype": "text/x-python",
   "name": "python",
   "nbconvert_exporter": "python",
   "pygments_lexer": "ipython3",
   "version": "3.12.4"
  }
 },
 "nbformat": 4,
 "nbformat_minor": 5
}
