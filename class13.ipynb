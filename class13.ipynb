{
 "cells": [
  {
   "cell_type": "code",
   "execution_count": null,
   "id": "c958ce5c-0719-40a1-a60a-fdef99899377",
   "metadata": {},
   "outputs": [],
   "source": [
    "Dictionary:dictonary are used to store data values in key:value pairs.\n",
    "A dictionary is a collection of which is ordered, changable, and do not allow duplicates.\n",
    "List:changeable,allow duplicates\n",
    "Tuple:unchangle,allow duplicates\n",
    "dict:changeable,no duplicated allowed\n",
    "\n",
    "# Dictionary:\n",
    "\n",
    "# dict = { \"brand\": \"Toyota\", \"model\":\"Mustang\", \"year\":\"1999\",}\n",
    "\n",
    "# # dict.pop(\"model\")\n",
    "# # print(dict)\n",
    "# # dict.update({\"colour\":\"red\",\"price\":50000})\n",
    "# # print(dict)\n",
    "# # dict[\"address\"] = \"Downtown\"\n",
    "# # print(dict)\n",
    "# # print(len(dict))\n",
    "# # print(type(dict))\n",
    "# # dict.clear()\n",
    "# # print(dict)\n",
    "# print(dict[\"brand\"])\n"
   ]
  }
 ],
 "metadata": {
  "kernelspec": {
   "display_name": "Python 3 (ipykernel)",
   "language": "python",
   "name": "python3"
  },
  "language_info": {
   "codemirror_mode": {
    "name": "ipython",
    "version": 3
   },
   "file_extension": ".py",
   "mimetype": "text/x-python",
   "name": "python",
   "nbconvert_exporter": "python",
   "pygments_lexer": "ipython3",
   "version": "3.12.4"
  }
 },
 "nbformat": 4,
 "nbformat_minor": 5
}
