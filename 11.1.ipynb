{
 "cells": [
  {
   "cell_type": "code",
   "execution_count": null,
   "id": "d98ecadc-4a01-4b03-835c-51e48dc6efbc",
   "metadata": {},
   "outputs": [],
   "source": [
    "# Write a program to find the index of the maximum value in the list numbers = [10, 20, 30, 25, 5]\n",
    "\n",
    "# number = [10,20,30,25,5]\n",
    "# max_value = max(number)\n",
    "# print(max_value)\n",
    "# max_index = number.index(max_value)\n",
    "# print(max_index)\n",
    "\n",
    "\n",
    "\n",
    "\n",
    "\n",
    "# Write a program to find the index of the minimum value in the list numbers = [10, 20, 30, 25, 5]\n",
    "# even and odd progaram through list\n",
    "\n",
    "# number = [10,20,30,25,5]\n",
    "# min_value = min(number)\n",
    "# print(min_value)\n",
    "# min_value = number.index(min_value)\n",
    "# print(min_value)\n",
    "\n",
    "\n",
    "\n",
    "\n",
    "\n",
    "# number= [2,4,7,8,5,9]\n",
    "# for num in number:\n",
    "    \n",
    "#     if num%2==0:\n",
    "#         print(num,\"even numbers\")\n",
    "#     else:\n",
    "#         print(num,\"odd numbers\" )\n",
    "\n",
    "\n",
    "\n",
    "\n",
    "\n",
    "# even and odd progaram through list\n",
    "\n",
    "\n",
    "# number= [2,45,7,9,2]\n",
    "# odd_num= []\n",
    "# even_num= []\n",
    "# for num in number:\n",
    "#     if num %2==0:\n",
    "#         even_num.append(num)\n",
    "#     else:\n",
    "#         odd_num.append(num)\n",
    "    \n",
    "# print(odd_num)\n",
    "# print(even_num)\n"
   ]
  }
 ],
 "metadata": {
  "kernelspec": {
   "display_name": "Python 3 (ipykernel)",
   "language": "python",
   "name": "python3"
  },
  "language_info": {
   "codemirror_mode": {
    "name": "ipython",
    "version": 3
   },
   "file_extension": ".py",
   "mimetype": "text/x-python",
   "name": "python",
   "nbconvert_exporter": "python",
   "pygments_lexer": "ipython3",
   "version": "3.12.4"
  }
 },
 "nbformat": 4,
 "nbformat_minor": 5
}
