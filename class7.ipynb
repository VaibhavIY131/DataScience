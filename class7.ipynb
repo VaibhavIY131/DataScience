{
 "cells": [
  {
   "cell_type": "code",
   "execution_count": null,
   "id": "dc5e2659-9a72-4a7e-b893-e760250b2e38",
   "metadata": {},
   "outputs": [],
   "source": [
    "# Write a Python program to generate and print the Fibonacci sequence up to 50.\n",
    "\n",
    "\n",
    "# n =50\n",
    "\n",
    "# a, b = 0,1\n",
    "\n",
    "# print(\"fibonacci sereies\")\n",
    "\n",
    "# for i in range (n):\n",
    "#     print(a)\n",
    "#     a,b=b,a+b\n",
    "\n",
    "\n",
    "# Write a Python program to calculate the sum of all even numbers from 1 to 100 using a loop.\n",
    "\n",
    "# n =0\n",
    "# for num in range(1,101):\n",
    "#     if  num%2==0:\n",
    "#         n +=num\n",
    "# print(\"sum:\",n)\n",
    "\n",
    "\n",
    "\n",
    "# n = int(input(\"enter the factorial number: \"))\n",
    "# factorial=1\n",
    "# for i in range(1,n+1):\n",
    "#     factorial*=i\n",
    "# print(factorial)\n",
    "\n",
    "\n",
    "# Write a Python program to calculate the product of all odd numbers from 1 to n.\n",
    "# n=10\n",
    "# i =1\n",
    "# for num in range (1,n+1):\n",
    "#     if num%2!=0:\n",
    "#         i *=num\n",
    "# print(\"product:\",i)\n",
    "\n",
    "\n",
    "Write a Python program to count the number of vowels in a given string using a loop."
   ]
  }
 ],
 "metadata": {
  "kernelspec": {
   "display_name": "Python 3 (ipykernel)",
   "language": "python",
   "name": "python3"
  },
  "language_info": {
   "codemirror_mode": {
    "name": "ipython",
    "version": 3
   },
   "file_extension": ".py",
   "mimetype": "text/x-python",
   "name": "python",
   "nbconvert_exporter": "python",
   "pygments_lexer": "ipython3",
   "version": "3.12.4"
  }
 },
 "nbformat": 4,
 "nbformat_minor": 5
}
