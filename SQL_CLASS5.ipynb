{
 "cells": [
  {
   "cell_type": "code",
   "execution_count": null,
   "id": "0d92a83e-e008-4230-b04d-eb32ecc7312c",
   "metadata": {},
   "outputs": [],
   "source": [
    "BINARY(16): Fixed-length binary data. If you insert fewer than 16 bytes, MySQL will pad the data with zeros. If you insert more than 16 bytes, MySQL will truncate the data.\n",
    "VARBINARY(32): Variable-length binary data. MySQL stores the exact number of bytes you provide, up to the defined limit (32 bytes in this case).\n",
    "BLOB: Used for storing large binary data, such as files. You can insert binary data directly or use functions like LOAD_FILE() to load files.\\\n",
    "Create Database BinaryData;\n",
    "\n",
    "\n",
    "Use BinaryData;\n",
    "\n",
    "Create table Fixedbinarydata(\n",
    "    ID Int primary key,\n",
    "    Binarydata Binary(16)\n",
    ");\n",
    "\n",
    "Create Table Variablebinarydata(\n",
    "    ID iNT PRIMARY KEY,\n",
    "    Binarydata Varbinary(36)\n",
    "    \n",
    ");\n",
    "\n",
    "Create Table DocumentStorage(\n",
    "    ID Int primary key,\n",
    "    DocumentName Varchar(36),\n",
    "    Data  VARBINARY(MAX)\n",
    "    \n",
    ");\n",
    "\n",
    "\n",
    "Insert Into Fixedbinarydata(ID,Binarydata)\n",
    "Values(1, 0x000000000A);\n",
    "\n",
    "Insert Into Variablebinarydata(ID, Binarydata)\n",
    "Values (2,0x3456787654345676543)\n",
    "\n",
    "-- INSERT INTO DocumentStorage (ID, DocumentName, Data)\n",
    "-- VALUES (6, 'sample', 0xacfbjhdacsdcwrwcverwvtr\n",
    "-- );\n",
    "-- INSERT INTO DocumentStorage (ID, DocumentName, Data)\n",
    "-- VALUES (6, 'sample', CONVERT(VARBINARY(MAX), 'acfbjhdacsdcwrwcverwvtr'));\n",
    "\n",
    "\n",
    "select*from Documentstorage;\n",
    "select*from Variablebinarydata;\n"
   ]
  },
  {
   "cell_type": "code",
   "execution_count": null,
   "id": "5f0e72a0-7681-4789-930c-171f38d1bd46",
   "metadata": {},
   "outputs": [],
   "source": []
  },
  {
   "cell_type": "code",
   "execution_count": null,
   "id": "ac4853b6-6026-429d-a93b-cb57225b8a29",
   "metadata": {},
   "outputs": [],
   "source": []
  }
 ],
 "metadata": {
  "kernelspec": {
   "display_name": "Python 3 (ipykernel)",
   "language": "python",
   "name": "python3"
  },
  "language_info": {
   "codemirror_mode": {
    "name": "ipython",
    "version": 3
   },
   "file_extension": ".py",
   "mimetype": "text/x-python",
   "name": "python",
   "nbconvert_exporter": "python",
   "pygments_lexer": "ipython3",
   "version": "3.12.4"
  }
 },
 "nbformat": 4,
 "nbformat_minor": 5
}
