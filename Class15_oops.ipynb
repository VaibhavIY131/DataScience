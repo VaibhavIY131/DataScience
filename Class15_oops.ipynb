{
 "cells": [
  {
   "cell_type": "code",
   "execution_count": null,
   "id": "9673bcff-ffa7-4d03-9415-322380c7f2ad",
   "metadata": {},
   "outputs": [],
   "source": [
    "OOPS:\n",
    "# ENCAPSULATION:\n",
    "class account:\n",
    "    def __init__(self,owner,balance=0):\n",
    "        self.owner = owner\n",
    "        self.__balance = balance\n",
    "        \n",
    "        \n",
    "    def get_balance(self):\n",
    "        return self.__balance\n",
    "        \n",
    "    def deposit(self,amount):\n",
    "        if amount >0:\n",
    "            self.__balance += amount\n",
    "            print(amount)\n",
    "        else:\n",
    "            print(\"Deposit amount must be positive\")\n",
    "    \n",
    "    def withdraw (self,amount):\n",
    "        if amount >0:\n",
    "            if amount <=self.__balance:\n",
    "                self.__balance -=amount\n",
    "                print(amount)\n",
    "            else:\n",
    "                print(\"Insufficient funds\")\n",
    "                \n",
    "    def display_account_info(self):\n",
    "        print(self.owner)\n",
    "        print(self.__balance)\n",
    "    \n",
    "    \n",
    "my_account = account(\"jhon\",500)\n",
    "my_account.display_account_info()\n",
    "my_account.deposit(200)\n",
    "my_account.withdraw(1000)   \n",
    "print(my_account.get_balance())\n",
    "\n",
    "\n",
    "\n",
    "\n",
    "\n",
    "Ceate a class BankAccount that represents a bank account with features to deposit, withdraw, and check balance. Use encapsulation to make the balance private.\n",
    "OOP Concepts Used: Encapsulation\n",
    "Question: Create a base class Employee with basic attributes like name and salary. Then create a derived class Manager that adds a list of employees managed by this manager.\n",
    "\n",
    "OOP Concepts Used: Inheritance"
   ]
  }
 ],
 "metadata": {
  "kernelspec": {
   "display_name": "Python 3 (ipykernel)",
   "language": "python",
   "name": "python3"
  },
  "language_info": {
   "codemirror_mode": {
    "name": "ipython",
    "version": 3
   },
   "file_extension": ".py",
   "mimetype": "text/x-python",
   "name": "python",
   "nbconvert_exporter": "python",
   "pygments_lexer": "ipython3",
   "version": "3.12.4"
  }
 },
 "nbformat": 4,
 "nbformat_minor": 5
}
