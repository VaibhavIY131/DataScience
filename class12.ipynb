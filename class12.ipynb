{
 "cells": [
  {
   "cell_type": "code",
   "execution_count": null,
   "id": "b7e1d1e3-1a2e-46d1-94bf-6a0062fddda1",
   "metadata": {},
   "outputs": [],
   "source": [
    "#sliceing\n",
    "\n",
    "# number= [2,5,8,41,12,34,]\n",
    "# print(number[1:5])\n",
    "# print(number[0:6])\n",
    "# print(number[:3])\n",
    "# print(number[::-1])\n",
    "# print(number[:])\n",
    "\n",
    "\n",
    "\n",
    "# number [1:5] = [11,22,33,44,55]\n",
    "# print(number)\n",
    "\n",
    "\n",
    "# number= [1,5,9,10,18,21]\n",
    "# num = number[1:2]+number[3:4]+number[5:6]\n",
    "# print(num)\n",
    "\n",
    "\n",
    "\n",
    "# TUPLE:\n",
    "# Tuples:\n",
    "# A tuple is a collection of ordered and unchangeable.\n",
    "# Tuple allows duplicates\n",
    "\n",
    "\n",
    "\n",
    "\n",
    "# tuple = (\"apple\",\"banana\",\"cherry\")\n",
    "# print(len(tuple)) \n",
    "# print(type(tuple))\n",
    "# print(tuple[0])\n",
    "# print(tuple[1])\n",
    "# print(tuple[1:3])\n",
    "# print(tuple.count(\"apple\"))\n",
    "\n",
    "\n",
    "\n",
    "\n",
    "# tuple = (\"apple \", \"banana\", \"orange\", \"mango\",\"kiwi\")\n",
    "# print(len(tuple)) \n",
    "# print(tuple[0]) \n",
    "# print(tuple[0:4]) \n",
    "# print(tuple.count(\"orange\")) \n",
    "# print(tuple[:])\n",
    "# print(tuple[::-1])\n",
    "# print(tuple[:4])\n",
    "\n",
    "DO ALL THE LIST PROGRAM IN TUPLES"
   ]
  }
 ],
 "metadata": {
  "kernelspec": {
   "display_name": "Python 3 (ipykernel)",
   "language": "python",
   "name": "python3"
  },
  "language_info": {
   "codemirror_mode": {
    "name": "ipython",
    "version": 3
   },
   "file_extension": ".py",
   "mimetype": "text/x-python",
   "name": "python",
   "nbconvert_exporter": "python",
   "pygments_lexer": "ipython3",
   "version": "3.12.4"
  }
 },
 "nbformat": 4,
 "nbformat_minor": 5
}
