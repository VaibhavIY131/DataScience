{
 "cells": [
  {
   "cell_type": "code",
   "execution_count": null,
   "id": "8d96dcc1-c2ad-48f3-a264-e2cfbef28dc0",
   "metadata": {},
   "outputs": [],
   "source": [
    "Pandas:\n",
    "1.Data Manipulation\n",
    "easily clean, filter,modify datasets.\n",
    "perform operation like adding,removing ,sorting grouping.\n",
    "2.Data Analysis:\n",
    "summerize datasets using descriptive statstics.\n",
    "detect patterns, outliers, relationships in data.\n",
    "3.Integration:Modeling and visulization\n",
    "\n",
    "DataFrame:\n",
    "A dataframe is a two-dimensional tabular data-structure in python that is commonaly used with pandas library.it is similar to a table in database.\n",
    "\n",
    "Features:\n",
    "1.Rows and columns:organised in labeled rows and columns.\n",
    "2.Each column can contain different types of data.(integers, floats, strings.)\n",
    "3.Data can be accssed using rows and columns labels or numerical format.\n",
    "\n"
   ]
  }
 ],
 "metadata": {
  "kernelspec": {
   "display_name": "Python 3 (ipykernel)",
   "language": "python",
   "name": "python3"
  },
  "language_info": {
   "codemirror_mode": {
    "name": "ipython",
    "version": 3
   },
   "file_extension": ".py",
   "mimetype": "text/x-python",
   "name": "python",
   "nbconvert_exporter": "python",
   "pygments_lexer": "ipython3",
   "version": "3.12.4"
  }
 },
 "nbformat": 4,
 "nbformat_minor": 5
}
