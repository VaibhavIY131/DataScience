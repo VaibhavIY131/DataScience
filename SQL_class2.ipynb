{
 "cells": [
  {
   "cell_type": "code",
   "execution_count": null,
   "id": "2f1951a8-f628-4e0e-b609-00a4a38aed53",
   "metadata": {},
   "outputs": [],
   "source": [
    "#how to create data base:\n",
    "\n",
    "\n",
    "DDL:create, alter,drop,truncate,rename\n",
    "create:used to create a new database\n",
    "objects like tables,views,schemas.\n",
    "\n",
    "create table table_name(\n",
    "    column1 datatype constaints,\n",
    "    column2 datatype constraints,\n",
    "    ......\n",
    "    );\n",
    "  \n",
    " Create table employees(\n",
    "     employeeID INT Primary key,\n",
    "     firstName VARCHAR(50) NOT NULL,\n",
    "     LastName VARCHAR(50) NOT NULL,\n",
    "     HireDATE DATE,\n",
    "     Salary DECIMAL(1009)\n",
    "     );\n",
    "     \n",
    "2.ALTER :\n",
    "Alter command modifies the structure of an exisitng database object,\n",
    "such\n",
    "ALTER TABLE table_name\n",
    "ADD column_name datatype contrints;\n",
    "\n",
    "ALTER TABLE table_name\n",
    "DROP COLUMN column_name;\n",
    "\n",
    "ALTER TABLE Employees\n",
    "ADD email VARCHAR(100);\n",
    "\n",
    "AALTER TABLE Emplyees\n",
    "DROP COLUMN salary;\n",
    "\n",
    "\n",
    "\n",
    "3.DROP:Drop command removes an existing databases object,\n",
    "such as table or view,along with all of its data.\n",
    "\n",
    "4.TRUNCATE:Trauncate command removes all rows from a table but does not remove table stucture.\n",
    "    \n",
    "TRUNCATE TABLE employees;"
   ]
  }
 ],
 "metadata": {
  "kernelspec": {
   "display_name": "Python 3 (ipykernel)",
   "language": "python",
   "name": "python3"
  },
  "language_info": {
   "codemirror_mode": {
    "name": "ipython",
    "version": 3
   },
   "file_extension": ".py",
   "mimetype": "text/x-python",
   "name": "python",
   "nbconvert_exporter": "python",
   "pygments_lexer": "ipython3",
   "version": "3.12.4"
  }
 },
 "nbformat": 4,
 "nbformat_minor": 5
}
